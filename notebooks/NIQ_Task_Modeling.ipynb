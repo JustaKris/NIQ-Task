{
 "cells": [
  {
   "cell_type": "code",
   "execution_count": 105,
   "metadata": {},
   "outputs": [],
   "source": [
    "# Imports\n",
    "import os\n",
    "import numpy as np\n",
    "import pandas as pd\n",
    "import seaborn as sns \n",
    "import matplotlib.pyplot as plt\n",
    "\n",
    "from sklearn.model_selection import train_test_split\n",
    "from sklearn.ensemble import RandomForestClassifier\n",
    "from sklearn.metrics import classification_report, roc_auc_score"
   ]
  },
  {
   "cell_type": "code",
   "execution_count": 106,
   "metadata": {},
   "outputs": [],
   "source": [
    "# Load dataset\n",
    "data = pd.read_csv(\"../data/clean_dataset.csv\")"
   ]
  },
  {
   "cell_type": "code",
   "execution_count": 107,
   "metadata": {},
   "outputs": [
    {
     "data": {
      "text/html": [
       "<div>\n",
       "<style scoped>\n",
       "    .dataframe tbody tr th:only-of-type {\n",
       "        vertical-align: middle;\n",
       "    }\n",
       "\n",
       "    .dataframe tbody tr th {\n",
       "        vertical-align: top;\n",
       "    }\n",
       "\n",
       "    .dataframe thead th {\n",
       "        text-align: right;\n",
       "    }\n",
       "</style>\n",
       "<table border=\"1\" class=\"dataframe\">\n",
       "  <thead>\n",
       "    <tr style=\"text-align: right;\">\n",
       "      <th></th>\n",
       "      <th>TV_Total</th>\n",
       "      <th>FLYERS</th>\n",
       "      <th>Print_Total</th>\n",
       "      <th>Online_Video</th>\n",
       "      <th>Online_Display</th>\n",
       "      <th>Online_Total</th>\n",
       "      <th>TikTok</th>\n",
       "      <th>YouTube_Total</th>\n",
       "      <th>YouTube_Mobile</th>\n",
       "      <th>YouTube_Desktop</th>\n",
       "      <th>...</th>\n",
       "      <th>YouTube_CTV</th>\n",
       "      <th>Pinterest</th>\n",
       "      <th>Purchase</th>\n",
       "      <th>weight</th>\n",
       "      <th>Gender</th>\n",
       "      <th>Number_of_children</th>\n",
       "      <th>Age</th>\n",
       "      <th>Age_Group</th>\n",
       "      <th>Household_Size</th>\n",
       "      <th>Total_Media_Exposure</th>\n",
       "    </tr>\n",
       "  </thead>\n",
       "  <tbody>\n",
       "    <tr>\n",
       "      <th>0</th>\n",
       "      <td>0.0</td>\n",
       "      <td>0.0</td>\n",
       "      <td>0.0</td>\n",
       "      <td>10.0</td>\n",
       "      <td>4.0</td>\n",
       "      <td>14.0</td>\n",
       "      <td>0.0</td>\n",
       "      <td>0.0</td>\n",
       "      <td>0.0</td>\n",
       "      <td>0.0</td>\n",
       "      <td>...</td>\n",
       "      <td>0.0</td>\n",
       "      <td>0.0</td>\n",
       "      <td>1</td>\n",
       "      <td>11032.10</td>\n",
       "      <td>male</td>\n",
       "      <td>0.0</td>\n",
       "      <td>28.0</td>\n",
       "      <td>18-34</td>\n",
       "      <td>2.0</td>\n",
       "      <td>14.0</td>\n",
       "    </tr>\n",
       "    <tr>\n",
       "      <th>1</th>\n",
       "      <td>0.0</td>\n",
       "      <td>0.0</td>\n",
       "      <td>1.0</td>\n",
       "      <td>0.0</td>\n",
       "      <td>0.0</td>\n",
       "      <td>0.0</td>\n",
       "      <td>0.0</td>\n",
       "      <td>2.0</td>\n",
       "      <td>0.0</td>\n",
       "      <td>2.0</td>\n",
       "      <td>...</td>\n",
       "      <td>0.0</td>\n",
       "      <td>0.0</td>\n",
       "      <td>1</td>\n",
       "      <td>2581.77</td>\n",
       "      <td>female</td>\n",
       "      <td>0.0</td>\n",
       "      <td>52.0</td>\n",
       "      <td>45-54</td>\n",
       "      <td>2.0</td>\n",
       "      <td>3.0</td>\n",
       "    </tr>\n",
       "    <tr>\n",
       "      <th>2</th>\n",
       "      <td>4.0</td>\n",
       "      <td>0.0</td>\n",
       "      <td>0.0</td>\n",
       "      <td>0.0</td>\n",
       "      <td>0.0</td>\n",
       "      <td>0.0</td>\n",
       "      <td>0.0</td>\n",
       "      <td>1.0</td>\n",
       "      <td>0.0</td>\n",
       "      <td>0.0</td>\n",
       "      <td>...</td>\n",
       "      <td>0.0</td>\n",
       "      <td>0.0</td>\n",
       "      <td>1</td>\n",
       "      <td>8219.48</td>\n",
       "      <td>male</td>\n",
       "      <td>1.0</td>\n",
       "      <td>38.0</td>\n",
       "      <td>35-44</td>\n",
       "      <td>3.0</td>\n",
       "      <td>5.0</td>\n",
       "    </tr>\n",
       "    <tr>\n",
       "      <th>3</th>\n",
       "      <td>0.0</td>\n",
       "      <td>0.0</td>\n",
       "      <td>0.0</td>\n",
       "      <td>11.0</td>\n",
       "      <td>2.0</td>\n",
       "      <td>13.0</td>\n",
       "      <td>0.0</td>\n",
       "      <td>1.0</td>\n",
       "      <td>1.0</td>\n",
       "      <td>0.0</td>\n",
       "      <td>...</td>\n",
       "      <td>0.0</td>\n",
       "      <td>25.0</td>\n",
       "      <td>1</td>\n",
       "      <td>6040.79</td>\n",
       "      <td>male</td>\n",
       "      <td>2.0</td>\n",
       "      <td>38.0</td>\n",
       "      <td>35-44</td>\n",
       "      <td>4.0</td>\n",
       "      <td>14.0</td>\n",
       "    </tr>\n",
       "    <tr>\n",
       "      <th>4</th>\n",
       "      <td>0.0</td>\n",
       "      <td>0.0</td>\n",
       "      <td>0.0</td>\n",
       "      <td>7.0</td>\n",
       "      <td>3.0</td>\n",
       "      <td>10.0</td>\n",
       "      <td>0.0</td>\n",
       "      <td>0.0</td>\n",
       "      <td>0.0</td>\n",
       "      <td>0.0</td>\n",
       "      <td>...</td>\n",
       "      <td>0.0</td>\n",
       "      <td>0.0</td>\n",
       "      <td>0</td>\n",
       "      <td>11635.16</td>\n",
       "      <td>male</td>\n",
       "      <td>0.0</td>\n",
       "      <td>28.0</td>\n",
       "      <td>18-34</td>\n",
       "      <td>2.0</td>\n",
       "      <td>10.0</td>\n",
       "    </tr>\n",
       "    <tr>\n",
       "      <th>5</th>\n",
       "      <td>0.0</td>\n",
       "      <td>0.0</td>\n",
       "      <td>0.0</td>\n",
       "      <td>0.0</td>\n",
       "      <td>0.0</td>\n",
       "      <td>0.0</td>\n",
       "      <td>0.0</td>\n",
       "      <td>0.0</td>\n",
       "      <td>0.0</td>\n",
       "      <td>0.0</td>\n",
       "      <td>...</td>\n",
       "      <td>0.0</td>\n",
       "      <td>0.0</td>\n",
       "      <td>0</td>\n",
       "      <td>13456.38</td>\n",
       "      <td>female</td>\n",
       "      <td>0.0</td>\n",
       "      <td>27.0</td>\n",
       "      <td>18-34</td>\n",
       "      <td>2.0</td>\n",
       "      <td>0.0</td>\n",
       "    </tr>\n",
       "    <tr>\n",
       "      <th>6</th>\n",
       "      <td>4.0</td>\n",
       "      <td>0.0</td>\n",
       "      <td>0.0</td>\n",
       "      <td>6.0</td>\n",
       "      <td>5.0</td>\n",
       "      <td>11.0</td>\n",
       "      <td>0.0</td>\n",
       "      <td>1.0</td>\n",
       "      <td>1.0</td>\n",
       "      <td>0.0</td>\n",
       "      <td>...</td>\n",
       "      <td>0.0</td>\n",
       "      <td>0.0</td>\n",
       "      <td>1</td>\n",
       "      <td>3881.71</td>\n",
       "      <td>female</td>\n",
       "      <td>0.0</td>\n",
       "      <td>38.0</td>\n",
       "      <td>35-44</td>\n",
       "      <td>1.0</td>\n",
       "      <td>16.0</td>\n",
       "    </tr>\n",
       "    <tr>\n",
       "      <th>7</th>\n",
       "      <td>3.0</td>\n",
       "      <td>0.0</td>\n",
       "      <td>0.0</td>\n",
       "      <td>9.0</td>\n",
       "      <td>6.0</td>\n",
       "      <td>15.0</td>\n",
       "      <td>0.0</td>\n",
       "      <td>2.0</td>\n",
       "      <td>0.0</td>\n",
       "      <td>0.0</td>\n",
       "      <td>...</td>\n",
       "      <td>0.0</td>\n",
       "      <td>3.0</td>\n",
       "      <td>1</td>\n",
       "      <td>3993.45</td>\n",
       "      <td>female</td>\n",
       "      <td>0.0</td>\n",
       "      <td>52.0</td>\n",
       "      <td>45-54</td>\n",
       "      <td>2.0</td>\n",
       "      <td>20.0</td>\n",
       "    </tr>\n",
       "    <tr>\n",
       "      <th>8</th>\n",
       "      <td>0.0</td>\n",
       "      <td>0.0</td>\n",
       "      <td>1.0</td>\n",
       "      <td>0.0</td>\n",
       "      <td>0.0</td>\n",
       "      <td>0.0</td>\n",
       "      <td>0.0</td>\n",
       "      <td>0.0</td>\n",
       "      <td>0.0</td>\n",
       "      <td>0.0</td>\n",
       "      <td>...</td>\n",
       "      <td>0.0</td>\n",
       "      <td>0.0</td>\n",
       "      <td>0</td>\n",
       "      <td>6353.90</td>\n",
       "      <td>male</td>\n",
       "      <td>0.0</td>\n",
       "      <td>91.0</td>\n",
       "      <td>75+</td>\n",
       "      <td>1.0</td>\n",
       "      <td>1.0</td>\n",
       "    </tr>\n",
       "    <tr>\n",
       "      <th>9</th>\n",
       "      <td>81.0</td>\n",
       "      <td>3.0</td>\n",
       "      <td>1.0</td>\n",
       "      <td>0.0</td>\n",
       "      <td>0.0</td>\n",
       "      <td>0.0</td>\n",
       "      <td>0.0</td>\n",
       "      <td>0.0</td>\n",
       "      <td>0.0</td>\n",
       "      <td>0.0</td>\n",
       "      <td>...</td>\n",
       "      <td>0.0</td>\n",
       "      <td>0.0</td>\n",
       "      <td>1</td>\n",
       "      <td>2966.01</td>\n",
       "      <td>male</td>\n",
       "      <td>0.0</td>\n",
       "      <td>69.0</td>\n",
       "      <td>65-74</td>\n",
       "      <td>2.0</td>\n",
       "      <td>82.0</td>\n",
       "    </tr>\n",
       "  </tbody>\n",
       "</table>\n",
       "<p>10 rows × 21 columns</p>\n",
       "</div>"
      ],
      "text/plain": [
       "   TV_Total  FLYERS  Print_Total  Online_Video  Online_Display  Online_Total  \\\n",
       "0       0.0     0.0          0.0          10.0             4.0          14.0   \n",
       "1       0.0     0.0          1.0           0.0             0.0           0.0   \n",
       "2       4.0     0.0          0.0           0.0             0.0           0.0   \n",
       "3       0.0     0.0          0.0          11.0             2.0          13.0   \n",
       "4       0.0     0.0          0.0           7.0             3.0          10.0   \n",
       "5       0.0     0.0          0.0           0.0             0.0           0.0   \n",
       "6       4.0     0.0          0.0           6.0             5.0          11.0   \n",
       "7       3.0     0.0          0.0           9.0             6.0          15.0   \n",
       "8       0.0     0.0          1.0           0.0             0.0           0.0   \n",
       "9      81.0     3.0          1.0           0.0             0.0           0.0   \n",
       "\n",
       "   TikTok  YouTube_Total  YouTube_Mobile  YouTube_Desktop  ...  YouTube_CTV  \\\n",
       "0     0.0            0.0             0.0              0.0  ...          0.0   \n",
       "1     0.0            2.0             0.0              2.0  ...          0.0   \n",
       "2     0.0            1.0             0.0              0.0  ...          0.0   \n",
       "3     0.0            1.0             1.0              0.0  ...          0.0   \n",
       "4     0.0            0.0             0.0              0.0  ...          0.0   \n",
       "5     0.0            0.0             0.0              0.0  ...          0.0   \n",
       "6     0.0            1.0             1.0              0.0  ...          0.0   \n",
       "7     0.0            2.0             0.0              0.0  ...          0.0   \n",
       "8     0.0            0.0             0.0              0.0  ...          0.0   \n",
       "9     0.0            0.0             0.0              0.0  ...          0.0   \n",
       "\n",
       "   Pinterest  Purchase    weight  Gender Number_of_children   Age  Age_Group  \\\n",
       "0        0.0         1  11032.10    male                0.0  28.0      18-34   \n",
       "1        0.0         1   2581.77  female                0.0  52.0      45-54   \n",
       "2        0.0         1   8219.48    male                1.0  38.0      35-44   \n",
       "3       25.0         1   6040.79    male                2.0  38.0      35-44   \n",
       "4        0.0         0  11635.16    male                0.0  28.0      18-34   \n",
       "5        0.0         0  13456.38  female                0.0  27.0      18-34   \n",
       "6        0.0         1   3881.71  female                0.0  38.0      35-44   \n",
       "7        3.0         1   3993.45  female                0.0  52.0      45-54   \n",
       "8        0.0         0   6353.90    male                0.0  91.0        75+   \n",
       "9        0.0         1   2966.01    male                0.0  69.0      65-74   \n",
       "\n",
       "  Household_Size  Total_Media_Exposure  \n",
       "0            2.0                  14.0  \n",
       "1            2.0                   3.0  \n",
       "2            3.0                   5.0  \n",
       "3            4.0                  14.0  \n",
       "4            2.0                  10.0  \n",
       "5            2.0                   0.0  \n",
       "6            1.0                  16.0  \n",
       "7            2.0                  20.0  \n",
       "8            1.0                   1.0  \n",
       "9            2.0                  82.0  \n",
       "\n",
       "[10 rows x 21 columns]"
      ]
     },
     "execution_count": 107,
     "metadata": {},
     "output_type": "execute_result"
    }
   ],
   "source": [
    "data.head(10)"
   ]
  },
  {
   "cell_type": "code",
   "execution_count": 108,
   "metadata": {},
   "outputs": [
    {
     "name": "stdout",
     "output_type": "stream",
     "text": [
      "<class 'pandas.core.frame.DataFrame'>\n",
      "RangeIndex: 16048 entries, 0 to 16047\n",
      "Data columns (total 21 columns):\n",
      " #   Column                Non-Null Count  Dtype  \n",
      "---  ------                --------------  -----  \n",
      " 0   TV_Total              16048 non-null  float64\n",
      " 1   FLYERS                16048 non-null  float64\n",
      " 2   Print_Total           16048 non-null  float64\n",
      " 3   Online_Video          16048 non-null  float64\n",
      " 4   Online_Display        16048 non-null  float64\n",
      " 5   Online_Total          16048 non-null  float64\n",
      " 6   TikTok                16048 non-null  float64\n",
      " 7   YouTube_Total         16048 non-null  float64\n",
      " 8   YouTube_Mobile        16048 non-null  float64\n",
      " 9   YouTube_Desktop       16048 non-null  float64\n",
      " 10  YouTube_Tablet        16048 non-null  float64\n",
      " 11  YouTube_CTV           16048 non-null  float64\n",
      " 12  Pinterest             16048 non-null  float64\n",
      " 13  Purchase              16048 non-null  int64  \n",
      " 14  weight                16048 non-null  float64\n",
      " 15  Gender                16048 non-null  object \n",
      " 16  Number_of_children    16048 non-null  float64\n",
      " 17  Age                   16048 non-null  float64\n",
      " 18  Age_Group             16048 non-null  object \n",
      " 19  Household_Size        16048 non-null  float64\n",
      " 20  Total_Media_Exposure  16048 non-null  float64\n",
      "dtypes: float64(18), int64(1), object(2)\n",
      "memory usage: 2.6+ MB\n"
     ]
    }
   ],
   "source": [
    "data.info()"
   ]
  },
  {
   "cell_type": "code",
   "execution_count": 109,
   "metadata": {},
   "outputs": [
    {
     "name": "stdout",
     "output_type": "stream",
     "text": [
      "              precision    recall  f1-score   support\n",
      "\n",
      "           0       0.61      0.68      0.64      1645\n",
      "           1       0.62      0.54      0.58      1565\n",
      "\n",
      "    accuracy                           0.61      3210\n",
      "   macro avg       0.61      0.61      0.61      3210\n",
      "weighted avg       0.61      0.61      0.61      3210\n",
      "\n",
      "ROC-AUC: 0.648449265369937\n"
     ]
    }
   ],
   "source": [
    "# Prepare data\n",
    "X = data[['Age', 'Gender', 'Number_of_children', 'Total_Media_Exposure']]\n",
    "y = data['Purchase']\n",
    "X = pd.get_dummies(X, drop_first=True)\n",
    "\n",
    "# Train/Test Split\n",
    "X_train, X_test, y_train, y_test = train_test_split(X, y, test_size=0.2, random_state=42)\n",
    "\n",
    "# Train Model\n",
    "model = RandomForestClassifier(random_state=42)\n",
    "model.fit(X_train, y_train)\n",
    "\n",
    "# Evaluate\n",
    "y_pred = model.predict(X_test)\n",
    "print(classification_report(y_test, y_pred))\n",
    "print(\"ROC-AUC:\", roc_auc_score(y_test, model.predict_proba(X_test)[:, 1]))"
   ]
  },
  {
   "cell_type": "markdown",
   "metadata": {},
   "source": [
    "## Train/Test Split"
   ]
  },
  {
   "cell_type": "code",
   "execution_count": 110,
   "metadata": {},
   "outputs": [],
   "source": [
    "# Get dummies for gender\n",
    "data = pd.get_dummies(data, columns=['Gender'], drop_first=True)  # Drops one category to avoid multicollinearity"
   ]
  },
  {
   "cell_type": "code",
   "execution_count": 111,
   "metadata": {},
   "outputs": [],
   "source": [
    "from sklearn.model_selection import train_test_split\n",
    "\n",
    "X = data.drop(columns=['Purchase', 'weight', 'Age_Group'])  # Drop target, weights and unwanted columns\n",
    "y = data['Purchase']  # Target variable\n",
    "weights = data['weight']  # Store weights separately"
   ]
  },
  {
   "cell_type": "code",
   "execution_count": 112,
   "metadata": {},
   "outputs": [],
   "source": [
    "# Split the data into training and test sets\n",
    "X_train, X_test, y_train, y_test, w_train, w_test = train_test_split(X, y, weights, test_size=0.3, random_state=42)"
   ]
  },
  {
   "cell_type": "markdown",
   "metadata": {},
   "source": [
    "## Data Scaling"
   ]
  },
  {
   "cell_type": "code",
   "execution_count": 113,
   "metadata": {},
   "outputs": [],
   "source": [
    "from sklearn.preprocessing import StandardScaler\n",
    "\n",
    "scaler = StandardScaler()\n",
    "X_train_scaled = scaler.fit_transform(X_train)\n",
    "X_test_scaled = scaler.transform(X_test)"
   ]
  },
  {
   "cell_type": "markdown",
   "metadata": {},
   "source": [
    "## Modeling"
   ]
  },
  {
   "cell_type": "markdown",
   "metadata": {},
   "source": [
    "### Logistic Regression"
   ]
  },
  {
   "cell_type": "code",
   "execution_count": 114,
   "metadata": {},
   "outputs": [
    {
     "name": "stdout",
     "output_type": "stream",
     "text": [
      "ROC AUC Score: 0.7296661036585661\n"
     ]
    }
   ],
   "source": [
    "from sklearn.linear_model import LogisticRegression\n",
    "from sklearn.metrics import roc_auc_score\n",
    "\n",
    "# Initialize the model\n",
    "lr = LogisticRegression()\n",
    "\n",
    "# Fit the model with sample weights\n",
    "lr.fit(X_train, y_train, sample_weight=w_train)\n",
    "\n",
    "# Predict probabilities (probability of Purchase = 1)\n",
    "y_pred_proba = lr.predict_proba(X_test)[:, 1]  # Probability of positive class (Purchase = 1)\n",
    "\n",
    "# Evaluate model (using ROC AUC score)\n",
    "print(\"ROC AUC Score:\", roc_auc_score(y_test, y_pred_proba, sample_weight=w_test))\n"
   ]
  },
  {
   "cell_type": "code",
   "execution_count": 115,
   "metadata": {},
   "outputs": [],
   "source": [
    "# # Get feature importance (absolute values of coefficients)\n",
    "# feature_importance = pd.Series(np.abs(lr.coef_[0]), index=X_train.columns).sort_values(ascending=False)\n",
    "\n",
    "# # Plot\n",
    "# feature_importance[:10].plot(kind=\"barh\")\n",
    "# plt.title(\"Feature Importance from Logistic Regression\")\n",
    "# plt.show()"
   ]
  },
  {
   "cell_type": "code",
   "execution_count": 116,
   "metadata": {},
   "outputs": [
    {
     "data": {
      "image/png": "[encoded data removed]",
      "text/plain": [
       "<Figure size 1000x600 with 1 Axes>"
      ]
     },
     "metadata": {},
     "output_type": "display_data"
    }
   ],
   "source": [
    "# Get feature importance (absolute coefficients)\n",
    "feature_importance = np.abs(lr.coef_[0])\n",
    "\n",
    "# Create a DataFrame to show features and their importance\n",
    "importance_df = pd.DataFrame({\n",
    "    'Feature': X_train.columns,\n",
    "    'Importance': feature_importance\n",
    "})\n",
    "\n",
    "# Sort by importance\n",
    "importance_df = importance_df.sort_values(by='Importance', ascending=False)\n",
    "\n",
    "# print(importance_df)\n",
    "\n",
    "# Plot the top 10 most important features\n",
    "plt.figure(figsize=(10, 6))\n",
    "plt.barh(importance_df['Feature'][:10], importance_df['Importance'][:10], color='salmon')\n",
    "plt.xlabel('Importance')\n",
    "plt.title('Top 10 Feature Importances from Logistic Regression')\n",
    "plt.gca().invert_yaxis()  # Invert the y-axis to display the most important features at the top\n",
    "plt.show()"
   ]
  },
  {
   "cell_type": "markdown",
   "metadata": {},
   "source": [
    "### Random Forrest"
   ]
  },
  {
   "cell_type": "code",
   "execution_count": 128,
   "metadata": {},
   "outputs": [
    {
     "name": "stdout",
     "output_type": "stream",
     "text": [
      "ROC AUC Score: 0.6937049660385863\n"
     ]
    }
   ],
   "source": [
    "from sklearn.ensemble import RandomForestClassifier\n",
    "\n",
    "# Train a random forest model\n",
    "rf = RandomForestClassifier(n_estimators=100, random_state=42)\n",
    "\n",
    "# Fit the model with sample weights\n",
    "rf.fit(X_train_scaled, y_train, sample_weight=w_train)\n",
    "\n",
    "# Predict probabilities (probability of Purchase = 1)\n",
    "# y_pred = rf.predict(X_test_scaled)\n",
    "y_pred = rf.predict_proba(X_test_scaled)[:, 1]  # Probability of positive class (Purchase = 1)\n",
    "\n",
    "# Evaluate model (using ROC AUC score)\n",
    "print(\"ROC AUC Score:\", roc_auc_score(y_test, y_pred, sample_weight=w_test))\n"
   ]
  },
  {
   "cell_type": "code",
   "execution_count": 118,
   "metadata": {},
   "outputs": [],
   "source": [
    "# # Get feature importance\n",
    "# feature_importance = pd.Series(rf.feature_importances_, index=X_train.columns).sort_values(ascending=False)\n",
    "\n",
    "# # Plot the top features\n",
    "# import matplotlib.pyplot as plt\n",
    "# feature_importance[:10].plot(kind=\"barh\")\n",
    "# plt.title(\"Feature Importance from Random Forest\")\n",
    "# plt.show()"
   ]
  },
  {
   "cell_type": "code",
   "execution_count": 119,
   "metadata": {},
   "outputs": [
    {
     "data": {
      "image/png": "[encoded data removed]",
      "text/plain": [
       "<Figure size 1000x600 with 1 Axes>"
      ]
     },
     "metadata": {},
     "output_type": "display_data"
    }
   ],
   "source": [
    "# Get feature importance\n",
    "importance_df_rf = pd.DataFrame({\n",
    "    'Feature': X_train.columns,\n",
    "    'Importance': rf.feature_importances_\n",
    "})\n",
    "\n",
    "# Sort by importance\n",
    "importance_df_rf = importance_df_rf.sort_values(by='Importance', ascending=False)\n",
    "\n",
    "# print(importance_df_rf)\n",
    "\n",
    "# Plot the top 10 most important features\n",
    "plt.figure(figsize=(10, 6))\n",
    "plt.barh(importance_df_rf['Feature'][:10], importance_df_rf['Importance'][:10], color='skyblue')\n",
    "plt.xlabel('Importance')\n",
    "plt.title('Top 10 Feature Importances from Random Forest')\n",
    "plt.gca().invert_yaxis()  # Invert the y-axis to display the most important features at the top\n",
    "plt.show()"
   ]
  },
  {
   "cell_type": "markdown",
   "metadata": {},
   "source": [
    "### XGBoost"
   ]
  },
  {
   "cell_type": "code",
   "execution_count": 120,
   "metadata": {},
   "outputs": [
    {
     "name": "stdout",
     "output_type": "stream",
     "text": [
      "ROC AUC Score: 0.7029465854787641\n"
     ]
    }
   ],
   "source": [
    "import xgboost as xgb\n",
    "\n",
    "# Convert to DMatrix format for XGBoost (including weights)\n",
    "dtrain = xgb.DMatrix(X_train_scaled, label=y_train, weight=w_train)\n",
    "dtest = xgb.DMatrix(X_test_scaled, label=y_test, weight=w_test)\n",
    "\n",
    "# Train the model with binary logistic regression objective\n",
    "params = {'objective': 'binary:logistic', 'eval_metric': 'logloss'}\n",
    "xgb_model = xgb.train(params, dtrain, num_boost_round=100)\n",
    "\n",
    "# Predict probabilities on the test set\n",
    "y_pred_proba = xgb_model.predict(dtest)\n",
    "\n",
    "# Evaluate model (using ROC AUC score)\n",
    "print(\"ROC AUC Score:\", roc_auc_score(y_test, y_pred_proba, sample_weight=w_test))"
   ]
  },
  {
   "cell_type": "code",
   "execution_count": 121,
   "metadata": {},
   "outputs": [
    {
     "data": {
      "image/png": "[encoded data removed]",
      "text/plain": [
       "<Figure size 1000x600 with 1 Axes>"
      ]
     },
     "metadata": {},
     "output_type": "display_data"
    }
   ],
   "source": [
    "# Get feature importance (from XGBoost)\n",
    "importance_df_xgb = pd.DataFrame({\n",
    "    'Feature': X_train.columns,\n",
    "    'Importance': xgb_model.get_score(importance_type='weight').values()  # Or use 'gain' if preferred\n",
    "})\n",
    "\n",
    "# Sort by importance\n",
    "importance_df_xgb = importance_df_xgb.sort_values(by='Importance', ascending=False)\n",
    "\n",
    "# Plot the top 10 most important features\n",
    "plt.figure(figsize=(10, 6))\n",
    "plt.barh(importance_df_xgb['Feature'][:10], importance_df_xgb['Importance'][:10], color='skyblue')\n",
    "plt.xlabel('Importance')\n",
    "plt.title('Top 10 Feature Importances from XGBoost')\n",
    "plt.gca().invert_yaxis()  # Invert the y-axis to display the most important features at the top\n",
    "plt.show()"
   ]
  },
  {
   "cell_type": "code",
   "execution_count": null,
   "metadata": {},
   "outputs": [],
   "source": []
  }
 ],
 "metadata": {
  "kernelspec": {
   "display_name": "Python 3",
   "language": "python",
   "name": "python3"
  },
  "language_info": {
   "codemirror_mode": {
    "name": "ipython",
    "version": 3
   },
   "file_extension": ".py",
   "mimetype": "text/x-python",
   "name": "python",
   "nbconvert_exporter": "python",
   "pygments_lexer": "ipython3",
   "version": "3.11.11"
  }
 },
 "nbformat": 4,
 "nbformat_minor": 2
}
